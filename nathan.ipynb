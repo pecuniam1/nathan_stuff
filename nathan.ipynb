{
 "cells": [
  {
   "cell_type": "markdown",
   "metadata": {},
   "source": [
    "I prefer using strongly typed. Take a look at the following example."
   ]
  },
  {
   "cell_type": "code",
   "execution_count": 7,
   "metadata": {},
   "outputs": [],
   "source": [
    "def strongly_typed(number: int ) -> int:\n",
    "    return number * 2\n",
    "\n",
    "def weekly_typed(number):\n",
    "    return number * 2"
   ]
  }
 ],
 "metadata": {
  "kernelspec": {
   "display_name": "Python 3.9.12 ('base')",
   "language": "python",
   "name": "python3"
  },
  "language_info": {
   "codemirror_mode": {
    "name": "ipython",
    "version": 3
   },
   "file_extension": ".py",
   "mimetype": "text/x-python",
   "name": "python",
   "nbconvert_exporter": "python",
   "pygments_lexer": "ipython3",
   "version": "3.9.12"
  },
  "orig_nbformat": 4,
  "vscode": {
   "interpreter": {
    "hash": "8851ea81b00350aa4328396e13d34e21633b287a88f99546cc2a3c4bc74a88e3"
   }
  }
 },
 "nbformat": 4,
 "nbformat_minor": 2
}
